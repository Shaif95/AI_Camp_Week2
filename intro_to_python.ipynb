{
  "cells": [
    {
      "cell_type": "markdown",
      "metadata": {
        "id": "view-in-github",
        "colab_type": "text"
      },
      "source": [
        "<a href=\"https://colab.research.google.com/github/Shaif95/AI_Camp_Week2/blob/main/intro_to_python.ipynb\" target=\"_parent\"><img src=\"https://colab.research.google.com/assets/colab-badge.svg\" alt=\"Open In Colab\"/></a>"
      ]
    },
    {
      "cell_type": "markdown",
      "metadata": {
        "collapsed": false,
        "id": "aKiSsflo2D1o"
      },
      "source": [
        "# Introduction to Python\n",
        "\n"
      ]
    },
    {
      "cell_type": "markdown",
      "metadata": {
        "collapsed": false,
        "id": "f9TyBFri2D1t"
      },
      "source": [
        "This notebook aims to introduce students to the fundamentals of Python through a more interactive approach than traditional classroom settings. Students will be encouraged to independently explore topics and return to share their insights with the class."
      ]
    },
    {
      "cell_type": "markdown",
      "metadata": {
        "collapsed": false,
        "id": "rrQWY-Em2D1u"
      },
      "source": [
        "### Variables"
      ]
    },
    {
      "cell_type": "markdown",
      "metadata": {
        "collapsed": false,
        "id": "XoRvbzrp2D1u"
      },
      "source": [
        "Variables allow us to store values by assigning them to a specific word or name using the \"=\" sign. This means the value on the right is stored in the name on the left. Let’s try assigning a few variables in the next code block."
      ]
    },
    {
      "cell_type": "code",
      "execution_count": null,
      "metadata": {
        "id": "oiUyroo-2D1v",
        "outputId": "4e7f35b0-138f-42c4-e544-cdf3bb292bce",
        "colab": {
          "base_uri": "https://localhost:8080/"
        }
      },
      "outputs": [
        {
          "output_type": "execute_result",
          "data": {
            "text/plain": [
              "10"
            ]
          },
          "metadata": {},
          "execution_count": 21
        }
      ],
      "source": [
        "Name = 10 # This is a comment\n",
        "b = 2\n",
        "c = 3\n",
        "Name (This is a comment - anything after a # on the same line will be ignored)"
      ]
    },
    {
      "cell_type": "markdown",
      "metadata": {
        "collapsed": false,
        "id": "kRLgN3l42D1x"
      },
      "source": [
        "We can also perform basic algebra to these variables and save the output to a new variable"
      ]
    },
    {
      "cell_type": "code",
      "execution_count": null,
      "metadata": {
        "id": "LmFcwL6x2D1y",
        "outputId": "76a44e8d-7c6e-4d52-c1a3-48f2ed512d5b",
        "colab": {
          "base_uri": "https://localhost:8080/"
        }
      },
      "outputs": [
        {
          "output_type": "execute_result",
          "data": {
            "text/plain": [
              "30"
            ]
          },
          "metadata": {},
          "execution_count": 9
        }
      ],
      "source": [
        "d = a + b\n",
        "d"
      ]
    },
    {
      "cell_type": "code",
      "execution_count": null,
      "metadata": {
        "id": "KHaLHnhA2D1y",
        "outputId": "9149fe3e-83f7-4806-c1bb-9119383b6466",
        "colab": {
          "base_uri": "https://localhost:8080/"
        }
      },
      "outputs": [
        {
          "output_type": "execute_result",
          "data": {
            "text/plain": [
              "-7"
            ]
          },
          "metadata": {},
          "execution_count": 10
        }
      ],
      "source": [
        "e = c - a\n",
        "e"
      ]
    },
    {
      "cell_type": "code",
      "execution_count": null,
      "metadata": {
        "id": "97aNJogj2D1z",
        "outputId": "009d8239-68a6-4525-c3a7-d22b6591da05",
        "colab": {
          "base_uri": "https://localhost:8080/"
        }
      },
      "outputs": [
        {
          "output_type": "execute_result",
          "data": {
            "text/plain": [
              "60"
            ]
          },
          "metadata": {},
          "execution_count": 11
        }
      ],
      "source": [
        "f = b * c\n",
        "f"
      ]
    },
    {
      "cell_type": "code",
      "execution_count": null,
      "metadata": {
        "id": "FddzZKIf2D10",
        "outputId": "1d69890f-40c4-4110-9c64-8c3fcd02d2b4",
        "colab": {
          "base_uri": "https://localhost:8080/"
        }
      },
      "outputs": [
        {
          "output_type": "execute_result",
          "data": {
            "text/plain": [
              "0.5"
            ]
          },
          "metadata": {},
          "execution_count": 12
        }
      ],
      "source": [
        "g = a / b\n",
        "g"
      ]
    },
    {
      "cell_type": "code",
      "source": [
        "a = 18\n",
        "b = 4\n",
        "c = a/b\n",
        "c"
      ],
      "metadata": {
        "colab": {
          "base_uri": "https://localhost:8080/"
        },
        "id": "yFlNHb2pPQnr",
        "outputId": "c3a834f7-510f-46e1-f370-cd58d6c77020"
      },
      "execution_count": null,
      "outputs": [
        {
          "output_type": "execute_result",
          "data": {
            "text/plain": [
              "4.5"
            ]
          },
          "metadata": {},
          "execution_count": 18
        }
      ]
    },
    {
      "cell_type": "markdown",
      "metadata": {
        "collapsed": false,
        "id": "PGxdfFLA2D10"
      },
      "source": [
        "Sometimes we want to update the value of one variable, so we can do this"
      ]
    },
    {
      "cell_type": "code",
      "execution_count": null,
      "metadata": {
        "id": "4KL7Ar4N2D11",
        "outputId": "889129d5-2200-457e-acbb-108f178bf0d9",
        "colab": {
          "base_uri": "https://localhost:8080/"
        }
      },
      "outputs": [
        {
          "output_type": "execute_result",
          "data": {
            "text/plain": [
              "1.0"
            ]
          },
          "metadata": {},
          "execution_count": 19
        }
      ],
      "source": [
        "g = g*2 # the same thing works for /, +, and -\n",
        "g"
      ]
    },
    {
      "cell_type": "markdown",
      "metadata": {
        "collapsed": false,
        "id": "0Yjn6yQj2D11"
      },
      "source": [
        "This can get quite annoying with longer variable names, so we can do the following"
      ]
    },
    {
      "cell_type": "code",
      "execution_count": null,
      "metadata": {
        "id": "vxEEAuMQ2D11",
        "outputId": "e4e23d1c-a838-4dfc-f727-2b591426035e",
        "colab": {
          "base_uri": "https://localhost:8080/"
        }
      },
      "outputs": [
        {
          "output_type": "execute_result",
          "data": {
            "text/plain": [
              "30.0"
            ]
          },
          "metadata": {},
          "execution_count": 20
        }
      ],
      "source": [
        "f/=2 # there is also +=, -=, and *=\n",
        "f"
      ]
    },
    {
      "cell_type": "markdown",
      "metadata": {
        "collapsed": false,
        "id": "-SokCka12D12"
      },
      "source": [
        "There are many different types of variables we can create. In this next section, students will explore how to create three specific types: strings, floats, and booleans. Once you've created these variables, try applying the same operations we used earlier and observe the results."
      ]
    },
    {
      "cell_type": "code",
      "source": [
        "st = \"Name\" # String Var\n",
        "st1 = 10    # Integer\n",
        "st2 = 2.2   #Float\n",
        "st3 = False   # Boolean\n",
        "st = 's'   # Char\n",
        "\n"
      ],
      "metadata": {
        "id": "kU2qZtDQQIEZ"
      },
      "execution_count": null,
      "outputs": []
    },
    {
      "cell_type": "markdown",
      "metadata": {
        "collapsed": false,
        "id": "wrm0nzU22D12"
      },
      "source": [
        "Create a few string variables here, then try to add them together, subtract them, multiply them and divide them to see what happens. You may get an error, and thats okay. Its important to know what can and can't be done with a type of data."
      ]
    },
    {
      "cell_type": "code",
      "execution_count": null,
      "metadata": {
        "id": "TpT4oxrw2D12",
        "colab": {
          "base_uri": "https://localhost:8080/",
          "height": 35
        },
        "outputId": "28b56b3b-e000-4ce8-d829-7b9e7663f2b1"
      },
      "outputs": [
        {
          "output_type": "execute_result",
          "data": {
            "text/plain": [
              "'12'"
            ],
            "application/vnd.google.colaboratory.intrinsic+json": {
              "type": "string"
            }
          },
          "metadata": {},
          "execution_count": 30
        }
      ],
      "source": [
        "a= 1\n",
        "b= 2\n",
        "c= str(a) + str(b)\n",
        "\n",
        "c #St can't be added together like algebra?"
      ]
    },
    {
      "cell_type": "markdown",
      "metadata": {
        "collapsed": false,
        "id": "H_mQAOsc2D12"
      },
      "source": [
        "Create a few float variables here, then try to add them together, subtract them, multiply them and divide them to see what happens. You may get an error, and thats okay. Its important to know what can and can't be done with a type of data."
      ]
    },
    {
      "cell_type": "code",
      "execution_count": null,
      "metadata": {
        "id": "53D7Y_Fl2D13",
        "colab": {
          "base_uri": "https://localhost:8080/"
        },
        "outputId": "e60997d6-0658-4b32-9ae3-30da0b2e1fc7"
      },
      "outputs": [
        {
          "output_type": "execute_result",
          "data": {
            "text/plain": [
              "3.9"
            ]
          },
          "metadata": {},
          "execution_count": 32
        }
      ],
      "source": [
        "a = 2.5\n",
        "b = 1.4\n",
        "c = a +b\n",
        "c"
      ]
    },
    {
      "cell_type": "markdown",
      "metadata": {
        "collapsed": false,
        "id": "3pJJvhBm2D13"
      },
      "source": [
        "Create a few boolean variables here, then try to add them together, subtract them, multiply them and divide them to see what happens. You may get an error, and thats okay. Its important to know what can and can't be done with a type of data."
      ]
    },
    {
      "cell_type": "code",
      "execution_count": null,
      "metadata": {
        "id": "yX5Kz3ar2D13",
        "colab": {
          "base_uri": "https://localhost:8080/"
        },
        "outputId": "38c83593-209b-44b8-e30e-3092ca1315f8"
      },
      "outputs": [
        {
          "output_type": "execute_result",
          "data": {
            "text/plain": [
              "1"
            ]
          },
          "metadata": {},
          "execution_count": 37
        }
      ],
      "source": [
        "a = True   # 1\n",
        "b = False  # 0\n",
        "c = a * b\n",
        "c"
      ]
    },
    {
      "cell_type": "markdown",
      "metadata": {
        "collapsed": false,
        "id": "3XP3ZznC2D13"
      },
      "source": [
        "### Lists\n",
        "\n"
      ]
    },
    {
      "cell_type": "markdown",
      "metadata": {
        "collapsed": false,
        "id": "XdGckKor2D13"
      },
      "source": [
        "Lists are similar to the variables we’ve worked with so far, but they can store multiple values at once. We’ll first go over how to create lists using the three variable types mentioned earlier, and then students will be asked to create their own examples."
      ]
    },
    {
      "cell_type": "markdown",
      "metadata": {
        "collapsed": false,
        "id": "yf1MNcF92D14"
      },
      "source": [
        "First up, lists. you can create a list with the following code."
      ]
    },
    {
      "cell_type": "code",
      "execution_count": null,
      "metadata": {
        "id": "zWA0lLNJ2D14",
        "colab": {
          "base_uri": "https://localhost:8080/"
        },
        "outputId": "3b2ea4ee-3d20-4682-a42c-606cee8357b7"
      },
      "outputs": [
        {
          "output_type": "execute_result",
          "data": {
            "text/plain": [
              "[1, 2, 3, 4, 'Name', True]"
            ]
          },
          "metadata": {},
          "execution_count": 51
        }
      ],
      "source": [
        "my_list = [ 1, 2, 3, 4, \"Name\", True ]\n",
        "my_list"
      ]
    },
    {
      "cell_type": "markdown",
      "metadata": {
        "collapsed": false,
        "id": "c2R41sy92D14"
      },
      "source": [
        "To access a specific item from the list, you would do the following."
      ]
    },
    {
      "cell_type": "code",
      "execution_count": null,
      "metadata": {
        "id": "4ADFqOTY2D14",
        "outputId": "4612c6fb-ba98-4d17-f2f4-f63af43603c2",
        "colab": {
          "base_uri": "https://localhost:8080/"
        }
      },
      "outputs": [
        {
          "output_type": "execute_result",
          "data": {
            "text/plain": [
              "True"
            ]
          },
          "metadata": {},
          "execution_count": 48
        }
      ],
      "source": [
        "my_list[5] # List index starts from 0"
      ]
    },
    {
      "cell_type": "markdown",
      "metadata": {
        "collapsed": false,
        "id": "S8DnPNuk2D15"
      },
      "source": [
        "The first element in the list is at index 0, then the second element is at index 1 and so on.\n",
        "\n"
      ]
    },
    {
      "cell_type": "code",
      "execution_count": null,
      "metadata": {
        "id": "rmlSWc5w2D15",
        "outputId": "6ed07b2a-313d-499e-c74f-a1ade1e47cd4",
        "colab": {
          "base_uri": "https://localhost:8080/"
        }
      },
      "outputs": [
        {
          "output_type": "stream",
          "name": "stdout",
          "text": [
            "1 2 3 4 Name\n"
          ]
        }
      ],
      "source": [
        "print(my_list[0], my_list[1], my_list[2], my_list[3], my_list[4])"
      ]
    },
    {
      "cell_type": "markdown",
      "metadata": {
        "collapsed": false,
        "id": "swcwLxgw2D15"
      },
      "source": [
        "**TODO:** Now its your turn. We will have students create their own version of this data type.\n"
      ]
    },
    {
      "cell_type": "markdown",
      "metadata": {
        "collapsed": false,
        "id": "__srdDcp2D15"
      },
      "source": [
        "Below, create a list of your favorite colors.\n"
      ]
    },
    {
      "cell_type": "code",
      "execution_count": null,
      "metadata": {
        "id": "vuOm_H5_2D16",
        "colab": {
          "base_uri": "https://localhost:8080/"
        },
        "outputId": "05a56190-1eeb-42c4-c155-3a990bfe728e"
      },
      "outputs": [
        {
          "output_type": "execute_result",
          "data": {
            "text/plain": [
              "['blue', 'blue']"
            ]
          },
          "metadata": {},
          "execution_count": 73
        }
      ],
      "source": [
        "#create a list of your favorite colors\n",
        "fc = [ \"red\" ,  \"blue\" ]   # List\n",
        "\n",
        "fc 2 = (\"red\", \"blue\")    # Tuple : Immutable\n",
        "fc[0] = \"blue\"\n",
        "fc"
      ]
    },
    {
      "cell_type": "markdown",
      "metadata": {
        "collapsed": false,
        "id": "XRXZRROf2D16"
      },
      "source": [
        "Now figure out how to `append()` an item to your list. Maybe google: \"how to append an item to a list python\"\n"
      ]
    },
    {
      "cell_type": "code",
      "execution_count": null,
      "metadata": {
        "id": "52Pn4g7b2D16",
        "colab": {
          "base_uri": "https://localhost:8080/"
        },
        "outputId": "628bbff3-8d60-4562-9731-7df7c7b4933f"
      },
      "outputs": [
        {
          "output_type": "execute_result",
          "data": {
            "text/plain": [
              "['blue', 'blue', 'yellow']"
            ]
          },
          "metadata": {},
          "execution_count": 74
        }
      ],
      "source": [
        "# append another color to the list of your favorite colors\n",
        "fc.append(\"yellow\")\n",
        "fc\n"
      ]
    },
    {
      "cell_type": "markdown",
      "metadata": {
        "collapsed": false,
        "id": "ExQUiBWz2D16"
      },
      "source": [
        "### For loops, while loops, and if statements\n",
        "\n"
      ]
    },
    {
      "cell_type": "markdown",
      "metadata": {
        "collapsed": false,
        "id": "-ajnxwlx2D16"
      },
      "source": [
        "We will learn more about for loops throughout this whole week. For now, we will use them to go through a list and print out each element."
      ]
    },
    {
      "cell_type": "code",
      "execution_count": null,
      "metadata": {
        "id": "GeBitwQU2D17",
        "outputId": "dd72141f-b68f-40fa-a3f1-1f040f995e11",
        "colab": {
          "base_uri": "https://localhost:8080/"
        }
      },
      "outputs": [
        {
          "output_type": "stream",
          "name": "stdout",
          "text": [
            "Two tabs\n",
            "Hello\n",
            "Two tabs\n",
            "Hello\n",
            "Two tabs\n",
            "Hello\n",
            "Two tabs\n",
            "Hello\n",
            "Two tabs\n",
            "Hello\n",
            "End\n"
          ]
        }
      ],
      "source": [
        "my_list = [1,2,3,7,9]\n",
        "\n",
        "for i in my_list:\n",
        "    print(\"Two tabs\")\n",
        "    print(\"Hello\")\n",
        "\n",
        "print(\"End\")\n",
        "\n"
      ]
    },
    {
      "cell_type": "markdown",
      "metadata": {
        "collapsed": false,
        "id": "vVo8oxCL2D17"
      },
      "source": [
        "Next, we will look at how to make a list run a specific number of times."
      ]
    },
    {
      "cell_type": "code",
      "execution_count": null,
      "metadata": {
        "id": "p_oKmG8x2D17",
        "outputId": "c37cdb37-0247-4352-d1e9-3052d0908b68",
        "colab": {
          "base_uri": "https://localhost:8080/"
        }
      },
      "outputs": [
        {
          "output_type": "stream",
          "name": "stdout",
          "text": [
            "Hello\n",
            "1\n",
            "Hello\n",
            "2\n",
            "Hello\n",
            "3\n",
            "Hello\n",
            "4\n"
          ]
        }
      ],
      "source": [
        "for i in range(1,5): # range functions the same here as the list [0,1,2,3,4]\n",
        "    print('Hello')\n",
        "    a = i\n",
        "    print(a)"
      ]
    },
    {
      "cell_type": "markdown",
      "metadata": {
        "collapsed": false,
        "id": "xUQMuNMM2D2A"
      },
      "source": [
        "Next, we’ll explore while loops. In general, anything you can do with a for loop can also be done with a while loop—it just uses slightly different syntax. So if you find while loops easier to understand, feel free to focus on using them instead."
      ]
    },
    {
      "cell_type": "markdown",
      "metadata": {
        "collapsed": false,
        "id": "YvQxF6562D2A"
      },
      "source": [
        "In the block below, we’ll create a while loop that runs 5 times. Unlike for loops, while loops don’t have a built-in end point, so it’s important to define a clear and achievable exit condition—a condition that tells the loop when to stop. This condition is checked every time right before the loop runs (or re-runs). If we don’t set a condition that eventually becomes true, the loop could run endlessly until it crashes or is manually stopped."
      ]
    },
    {
      "cell_type": "code",
      "execution_count": null,
      "metadata": {
        "id": "cUGmb4762D2B",
        "outputId": "3ef9acc2-03ab-43e1-8c22-c4fcea5c0328",
        "colab": {
          "base_uri": "https://localhost:8080/"
        }
      },
      "outputs": [
        {
          "output_type": "stream",
          "name": "stdout",
          "text": [
            "Hello World\n",
            "2\n",
            "Hello World\n",
            "3\n",
            "Hello World\n",
            "4\n"
          ]
        }
      ],
      "source": [
        "i = 2\n",
        "\n",
        "while i < 5:\n",
        "    print(\"Hello World\")\n",
        "    print(i)\n",
        "    i = i + 1"
      ]
    },
    {
      "cell_type": "markdown",
      "metadata": {
        "collapsed": false,
        "id": "3RlKZDI72D2B"
      },
      "source": [
        "Now for if statements. The if-elif-else statement is used to conditionally execute a statement or a block of statements. Conditions can be true or false, execute one thing when the condition is true, something else when the condition is false."
      ]
    },
    {
      "cell_type": "code",
      "execution_count": null,
      "metadata": {
        "id": "8O9_2Gr92D2B",
        "colab": {
          "base_uri": "https://localhost:8080/"
        },
        "outputId": "8c0f6cd6-c29a-416d-c180-e11dc3d159ce"
      },
      "outputs": [
        {
          "output_type": "stream",
          "name": "stdout",
          "text": [
            "a is greater than b\n"
          ]
        }
      ],
      "source": [
        "a = 0\n",
        "b = 2\n",
        "\n",
        "if (a < b):\n",
        "    print(\"a is greater than b\")"
      ]
    },
    {
      "cell_type": "markdown",
      "metadata": {
        "collapsed": false,
        "id": "x0KDwyiD2D2B"
      },
      "source": [
        "We can add else statements to the above. An else statement is what will be run if the original statement is false."
      ]
    },
    {
      "cell_type": "code",
      "execution_count": null,
      "metadata": {
        "id": "g57dYyJ52D2C",
        "outputId": "ddddd5bf-2cd6-4e49-c497-3b1f314133dd",
        "colab": {
          "base_uri": "https://localhost:8080/"
        }
      },
      "outputs": [
        {
          "output_type": "stream",
          "name": "stdout",
          "text": [
            "a is greater than b\n"
          ]
        }
      ],
      "source": [
        "a = 5\n",
        "b = 2\n",
        "\n",
        "if a > b:\n",
        "    print(\"a is greater than b\")\n",
        "else:\n",
        "    print(\"b is greater than a\")"
      ]
    },
    {
      "cell_type": "markdown",
      "metadata": {
        "collapsed": false,
        "id": "QHB8RqB02D2C"
      },
      "source": [
        "Additionally, we can use elif statements to add additional conditions to the structure."
      ]
    },
    {
      "cell_type": "code",
      "execution_count": null,
      "metadata": {
        "id": "1XCPghKU2D2C",
        "outputId": "85c285e8-2033-4676-c0de-2a1ab1717ce9",
        "colab": {
          "base_uri": "https://localhost:8080/"
        }
      },
      "outputs": [
        {
          "output_type": "stream",
          "name": "stdout",
          "text": [
            "b is greater than a\n"
          ]
        }
      ],
      "source": [
        "a = 1\n",
        "b = 5\n",
        "\n",
        "if a > b:\n",
        "    print(\"a is greater than b\")\n",
        "\n",
        "elif a == b:  # else-if as many as we want\n",
        "    print(\"a equals b\")\n",
        "\n",
        "else:   #else\n",
        "    print(\"b is greater than a\")"
      ]
    },
    {
      "cell_type": "markdown",
      "metadata": {
        "collapsed": false,
        "id": "V9ziW74P2D2D"
      },
      "source": [
        "Now its your turn. Either break up into 3 teams and have each team solve one of the blocks or solve them all together."
      ]
    },
    {
      "cell_type": "markdown",
      "metadata": {
        "collapsed": false,
        "id": "wvjug1ue2D2D"
      },
      "source": [
        "In the next block, create a for loop that counts from 0 to 10 and prints out each number. Additionally, if the number is less than 3, print out \"This is a small number\"."
      ]
    },
    {
      "cell_type": "code",
      "execution_count": null,
      "metadata": {
        "id": "7T4I2sLr2D2D",
        "colab": {
          "base_uri": "https://localhost:8080/"
        },
        "outputId": "fe21e97e-b40a-4888-ddfc-3e894cd31de5"
      },
      "outputs": [
        {
          "output_type": "stream",
          "name": "stdout",
          "text": [
            "0\n",
            "This is a small number\n",
            "1\n",
            "This is a small number\n",
            "2\n",
            "This is a small number\n",
            "3\n",
            "4\n",
            "5\n",
            "6\n",
            "7\n",
            "8\n",
            "9\n"
          ]
        }
      ],
      "source": [
        "# for loop that counts from 0 to 10 -- check out the for loop that uses the range() function above.\n",
        "for i in range(0,10):\n",
        "    print(i)\n",
        "    if i<3:\n",
        "     print(\"This is a small number\")"
      ]
    },
    {
      "cell_type": "markdown",
      "source": [],
      "metadata": {
        "id": "xZdWuTGhaCdC"
      }
    },
    {
      "cell_type": "markdown",
      "metadata": {
        "collapsed": false,
        "id": "Grk-THiX2D2D"
      },
      "source": [
        "In the next block, create a while loop that prints out all of the even numbers between 1 and 10. Additionally, if the number is between 5 and 9, print the number out a second time."
      ]
    },
    {
      "cell_type": "code",
      "source": [
        "i = 0\n",
        "for i in range(0,10,2):\n",
        "  print(i)\n",
        "  if (i > 5) and (i < 9):\n",
        "    print(i)\n"
      ],
      "metadata": {
        "colab": {
          "base_uri": "https://localhost:8080/"
        },
        "id": "issevLYOsAxG",
        "outputId": "cf4c1f58-ca8d-4e81-de6c-9909e42dfe33"
      },
      "execution_count": null,
      "outputs": [
        {
          "output_type": "stream",
          "name": "stdout",
          "text": [
            "0\n",
            "2\n",
            "4\n",
            "6\n",
            "6\n",
            "8\n",
            "8\n"
          ]
        }
      ]
    },
    {
      "cell_type": "code",
      "execution_count": null,
      "metadata": {
        "id": "jsANe6662D2E"
      },
      "outputs": [],
      "source": []
    },
    {
      "cell_type": "markdown",
      "metadata": {
        "collapsed": false,
        "id": "8DI9wLAO2D2E"
      },
      "source": [
        "In the next block, ask the user to input 3 items and add them all to a list. Then. create a loop that prints out each item that the user entered."
      ]
    },
    {
      "cell_type": "code",
      "execution_count": null,
      "metadata": {
        "id": "u1h77ckJ2D2E"
      },
      "outputs": [],
      "source": []
    },
    {
      "cell_type": "markdown",
      "metadata": {
        "collapsed": false,
        "id": "JomERl882D2E"
      },
      "source": [
        "### Functions"
      ]
    },
    {
      "cell_type": "markdown",
      "metadata": {
        "collapsed": false,
        "id": "YYaIEVf72D2F"
      },
      "source": [
        "Functions act like variables but instead of storing a value, they store lines of code. Below we can see how a function is created and used."
      ]
    },
    {
      "cell_type": "code",
      "execution_count": null,
      "metadata": {
        "id": "JEnrCvhK2D2F"
      },
      "outputs": [],
      "source": [
        "def my_first_function():  #def to define a function\n",
        "    print(\"hell\")\n",
        "    print(\"Hey again\")\n",
        "    print('Hello world')"
      ]
    },
    {
      "cell_type": "code",
      "source": [
        "my_first_function()"
      ],
      "metadata": {
        "colab": {
          "base_uri": "https://localhost:8080/"
        },
        "id": "N-mrScFHuUjY",
        "outputId": "f98a2fa0-80bc-4d7c-d286-932016f72eba"
      },
      "execution_count": null,
      "outputs": [
        {
          "output_type": "stream",
          "name": "stdout",
          "text": [
            "hell\n",
            "Hey again\n",
            "Hello world\n"
          ]
        }
      ]
    },
    {
      "cell_type": "code",
      "execution_count": null,
      "metadata": {
        "id": "1OYJKSbG2D2G",
        "outputId": "73cc5527-90ac-4bd9-9958-c9af2fd7664c",
        "colab": {
          "base_uri": "https://localhost:8080/"
        }
      },
      "outputs": [
        {
          "output_type": "stream",
          "name": "stdout",
          "text": [
            "hell\n",
            "Hey again\n",
            "Hello world\n"
          ]
        }
      ],
      "source": [
        "my_first_function()"
      ]
    },
    {
      "cell_type": "markdown",
      "metadata": {
        "collapsed": false,
        "id": "yFATpJNC2D2G"
      },
      "source": [
        "Whenever the computer sees the function being used, it automatically runs the code stored inside of that function."
      ]
    },
    {
      "cell_type": "code",
      "source": [],
      "metadata": {
        "id": "tnT_yMS7ucCc"
      },
      "execution_count": null,
      "outputs": []
    },
    {
      "cell_type": "markdown",
      "metadata": {
        "collapsed": false,
        "id": "eBQA5l762D2H"
      },
      "source": [
        "Additionally, functions can take in one or multiple values to use in their code, as we can see below."
      ]
    },
    {
      "cell_type": "code",
      "execution_count": null,
      "metadata": {
        "id": "HnrC-XEi2D2H"
      },
      "outputs": [],
      "source": [
        "def add_numbers(a, b, c):  #parameters\n",
        "    total = a + b\n",
        "    print(total)"
      ]
    },
    {
      "cell_type": "code",
      "execution_count": null,
      "metadata": {
        "id": "cXhMSaG92D2H",
        "outputId": "13ed665b-fda9-43fb-bd10-378f950b09ab",
        "colab": {
          "base_uri": "https://localhost:8080/"
        }
      },
      "outputs": [
        {
          "output_type": "stream",
          "name": "stdout",
          "text": [
            "3\n"
          ]
        }
      ],
      "source": [
        "add_numbers(1, 2, 3)  # Arguments"
      ]
    },
    {
      "cell_type": "markdown",
      "metadata": {
        "collapsed": false,
        "id": "4p8J7cW02D2I"
      },
      "source": [
        "Finally, functions can include a return statement, which sends a result back to where the function was called. You can think of a function as a black box: the values inside the parentheses are the input, and the return statement provides the output. This output can be stored in a variable and used later. To demonstrate, we’ll redefine the add_numbers function from earlier using a return statement."
      ]
    },
    {
      "cell_type": "code",
      "execution_count": null,
      "metadata": {
        "id": "Ub3rdPJB2D2I"
      },
      "outputs": [],
      "source": [
        "def add_numbers(a, b, c):\n",
        "    total = a + b + c\n",
        "    return total"
      ]
    },
    {
      "cell_type": "code",
      "execution_count": null,
      "metadata": {
        "id": "nfhn-Vi32D2I",
        "outputId": "a17bc395-8621-48f3-d30d-a74197f4039a",
        "colab": {
          "base_uri": "https://localhost:8080/"
        }
      },
      "outputs": [
        {
          "output_type": "execute_result",
          "data": {
            "text/plain": [
              "6"
            ]
          },
          "metadata": {},
          "execution_count": 144
        }
      ],
      "source": [
        "out = add_numbers(1, 2, 3)\n",
        "out"
      ]
    },
    {
      "cell_type": "markdown",
      "metadata": {
        "collapsed": false,
        "id": "XeSfoWh52D2I"
      },
      "source": [
        "Now its your turn! You can either work on each of the following challenges in teams of 2 or walk through each one as a group. In any case, it is recommended to look at them at a high level together so that everyone understands the concepts in each section."
      ]
    },
    {
      "cell_type": "markdown",
      "metadata": {
        "collapsed": false,
        "id": "u53X_abS2D2J"
      },
      "source": [
        "In the block below, create a function that takes in 2 numbers and returns True if the product of the numbers is positive and False in all other cases."
      ]
    },
    {
      "cell_type": "code",
      "execution_count": null,
      "metadata": {
        "id": "Z0Hqk5YP2D2J",
        "colab": {
          "base_uri": "https://localhost:8080/"
        },
        "outputId": "7ba2903e-09b6-4e8e-adcd-e8aad7bf79a5"
      },
      "outputs": [
        {
          "output_type": "stream",
          "name": "stdout",
          "text": [
            "True\n",
            "False\n",
            "True\n"
          ]
        }
      ],
      "source": [
        "def is_product_positive(num1, num2):\n",
        "    product = num1 * num2\n",
        "    if product > 0:\n",
        "        return True\n",
        "    else:\n",
        "        return False\n",
        "\n",
        "result = is_product_positive(5, 6)\n",
        "print(result)  # Output: True\n",
        "\n",
        "result = is_product_positive(-3, 4)\n",
        "print(result)  # Output: False\n",
        "\n",
        "result = is_product_positive(-2, -9)\n",
        "print(result)  # Output: True"
      ]
    },
    {
      "cell_type": "markdown",
      "metadata": {
        "collapsed": false,
        "id": "Gz0wT-PK2D2J"
      },
      "source": [
        "In the block below, create a function that takes in a string and returns the string in reverse order. For example, if the input was \"Hello\" the output should be \"olleH\""
      ]
    },
    {
      "cell_type": "code",
      "execution_count": null,
      "metadata": {
        "id": "59g2Vqdk2D2K",
        "colab": {
          "base_uri": "https://localhost:8080/"
        },
        "outputId": "53cdaccd-1663-412c-869b-79e75e4d635f"
      },
      "outputs": [
        {
          "output_type": "stream",
          "name": "stdout",
          "text": [
            "!dlroW ,olleH\n"
          ]
        }
      ],
      "source": [
        "def reverse_string(string):\n",
        "\n",
        "    reversed = ''\n",
        "\n",
        "    for i in string:\n",
        "\n",
        "        reversed = i + reversed\n",
        "\n",
        "    return reversed\n",
        "\n",
        "# Example usage\n",
        "my_string = \"Hello, World!\"\n",
        "reversed_string = reverse_string(my_string)\n",
        "print(reversed_string)  # Output: \"!dlroW ,olleH\"\n"
      ]
    },
    {
      "cell_type": "markdown",
      "metadata": {
        "collapsed": false,
        "id": "fBbC6I0A2D2K"
      },
      "source": [
        "In the block below, create a function that takes in a list and prints out each element 1 at a time. For example, if the input was ['Dog', 'Cat', 'Hamster'], the output should be\n",
        "\n",
        "Dog\n",
        "\n",
        "Cat\n",
        "\n",
        "Hamster"
      ]
    },
    {
      "cell_type": "code",
      "execution_count": null,
      "metadata": {
        "id": "jwo2UIVE2D2K"
      },
      "outputs": [],
      "source": []
    },
    {
      "cell_type": "code",
      "execution_count": null,
      "metadata": {
        "id": "aBUgos4s2D2N"
      },
      "outputs": [],
      "source": []
    },
    {
      "cell_type": "code",
      "execution_count": null,
      "metadata": {
        "id": "I-iHekrK2D2N"
      },
      "outputs": [],
      "source": []
    },
    {
      "cell_type": "code",
      "execution_count": null,
      "metadata": {
        "id": "BuvME9F02D2O"
      },
      "outputs": [],
      "source": []
    },
    {
      "cell_type": "code",
      "source": [],
      "metadata": {
        "id": "go0KHqZyxrSi"
      },
      "execution_count": null,
      "outputs": []
    }
  ],
  "metadata": {
    "kernelspec": {
      "display_name": "Python 3.9.12 ('base')",
      "language": "python",
      "name": "python3"
    },
    "language_info": {
      "codemirror_mode": {
        "name": "ipython",
        "version": 3
      },
      "file_extension": ".py",
      "mimetype": "text/x-python",
      "name": "python",
      "nbconvert_exporter": "python",
      "pygments_lexer": "ipython3",
      "version": "3.9.12"
    },
    "orig_nbformat": 4,
    "vscode": {
      "interpreter": {
        "hash": "335ee12212264728feb72f243af72c5a8ea26c832f07e1f651ce9e17c7ceae23"
      }
    },
    "colab": {
      "provenance": [],
      "include_colab_link": true
    }
  },
  "nbformat": 4,
  "nbformat_minor": 0
}